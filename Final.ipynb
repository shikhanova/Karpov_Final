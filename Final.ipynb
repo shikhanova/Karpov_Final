{
 "cells": [
  {
   "cell_type": "code",
   "execution_count": 2,
   "metadata": {},
   "outputs": [],
   "source": [
    "import numpy as np\n",
    "import pandas as pd\n",
    "from scipy.stats import norm, mannwhitneyu, stats as ss\n",
    "import matplotlib.pyplot as plt\n",
    "from scipy.stats import chi2_contingency, chi2\n",
    "from statsmodels.sandbox.stats.multicomp import multipletests\n",
    "\n",
    "from tqdm.auto import tqdm\n",
    "\n",
    "plt.style.use('ggplot')"
   ]
  },
  {
   "cell_type": "markdown",
   "metadata": {},
   "source": [
    "**Информация о пользователях, которые посещали приложение во время эксперимента:**\n",
    "\n",
    "* user_id — идентификатор пользователя (уникальный)\n",
    "* country — страна посещения приложения (Россия, Швеция)\n",
    "* platform — платформа посещения приложения (IOS, Android)\n",
    "* sex — пол пользователя (мужской, женский)"
   ]
  },
  {
   "cell_type": "code",
   "execution_count": 3,
   "metadata": {},
   "outputs": [
    {
     "data": {
      "text/html": [
       "<div>\n",
       "<style scoped>\n",
       "    .dataframe tbody tr th:only-of-type {\n",
       "        vertical-align: middle;\n",
       "    }\n",
       "\n",
       "    .dataframe tbody tr th {\n",
       "        vertical-align: top;\n",
       "    }\n",
       "\n",
       "    .dataframe thead th {\n",
       "        text-align: right;\n",
       "    }\n",
       "</style>\n",
       "<table border=\"1\" class=\"dataframe\">\n",
       "  <thead>\n",
       "    <tr style=\"text-align: right;\">\n",
       "      <th></th>\n",
       "      <th>user_id</th>\n",
       "      <th>country</th>\n",
       "      <th>platform</th>\n",
       "      <th>sex</th>\n",
       "    </tr>\n",
       "  </thead>\n",
       "  <tbody>\n",
       "    <tr>\n",
       "      <th>0</th>\n",
       "      <td>8029</td>\n",
       "      <td>Russia</td>\n",
       "      <td>ios</td>\n",
       "      <td>male</td>\n",
       "    </tr>\n",
       "    <tr>\n",
       "      <th>1</th>\n",
       "      <td>1735</td>\n",
       "      <td>Sweden</td>\n",
       "      <td>ios</td>\n",
       "      <td>male</td>\n",
       "    </tr>\n",
       "    <tr>\n",
       "      <th>2</th>\n",
       "      <td>7697</td>\n",
       "      <td>Russia</td>\n",
       "      <td>android</td>\n",
       "      <td>male</td>\n",
       "    </tr>\n",
       "    <tr>\n",
       "      <th>3</th>\n",
       "      <td>1421</td>\n",
       "      <td>Sweden</td>\n",
       "      <td>android</td>\n",
       "      <td>female</td>\n",
       "    </tr>\n",
       "    <tr>\n",
       "      <th>4</th>\n",
       "      <td>1704</td>\n",
       "      <td>Russia</td>\n",
       "      <td>ios</td>\n",
       "      <td>male</td>\n",
       "    </tr>\n",
       "  </tbody>\n",
       "</table>\n",
       "</div>"
      ],
      "text/plain": [
       "   user_id country platform     sex\n",
       "0     8029  Russia      ios    male\n",
       "1     1735  Sweden      ios    male\n",
       "2     7697  Russia  android    male\n",
       "3     1421  Sweden  android  female\n",
       "4     1704  Russia      ios    male"
      ]
     },
     "execution_count": 3,
     "metadata": {},
     "output_type": "execute_result"
    }
   ],
   "source": [
    "active_users = pd.read_csv('Проект_4_active_users.csv',sep=\",\")\n",
    "active_users.head()"
   ]
  },
  {
   "cell_type": "code",
   "execution_count": 4,
   "metadata": {},
   "outputs": [
    {
     "data": {
      "text/plain": [
       "8341"
      ]
     },
     "execution_count": 4,
     "metadata": {},
     "output_type": "execute_result"
    }
   ],
   "source": [
    "#количество пользователей в эксперименте\n",
    "active_users.shape[0]"
   ]
  },
  {
   "cell_type": "code",
   "execution_count": 5,
   "metadata": {},
   "outputs": [
    {
     "data": {
      "text/plain": [
       "8341"
      ]
     },
     "execution_count": 5,
     "metadata": {},
     "output_type": "execute_result"
    }
   ],
   "source": [
    "active_users.user_id.nunique()"
   ]
  },
  {
   "cell_type": "code",
   "execution_count": 6,
   "metadata": {},
   "outputs": [
    {
     "data": {
      "text/html": [
       "<div>\n",
       "<style scoped>\n",
       "    .dataframe tbody tr th:only-of-type {\n",
       "        vertical-align: middle;\n",
       "    }\n",
       "\n",
       "    .dataframe tbody tr th {\n",
       "        vertical-align: top;\n",
       "    }\n",
       "\n",
       "    .dataframe thead th {\n",
       "        text-align: right;\n",
       "    }\n",
       "</style>\n",
       "<table border=\"1\" class=\"dataframe\">\n",
       "  <thead>\n",
       "    <tr style=\"text-align: right;\">\n",
       "      <th></th>\n",
       "      <th>user_id</th>\n",
       "      <th>group</th>\n",
       "    </tr>\n",
       "  </thead>\n",
       "  <tbody>\n",
       "    <tr>\n",
       "      <th>0</th>\n",
       "      <td>9149</td>\n",
       "      <td>B</td>\n",
       "    </tr>\n",
       "    <tr>\n",
       "      <th>1</th>\n",
       "      <td>9150</td>\n",
       "      <td>B</td>\n",
       "    </tr>\n",
       "    <tr>\n",
       "      <th>2</th>\n",
       "      <td>9151</td>\n",
       "      <td>A</td>\n",
       "    </tr>\n",
       "    <tr>\n",
       "      <th>3</th>\n",
       "      <td>9152</td>\n",
       "      <td>B</td>\n",
       "    </tr>\n",
       "    <tr>\n",
       "      <th>4</th>\n",
       "      <td>9153</td>\n",
       "      <td>B</td>\n",
       "    </tr>\n",
       "  </tbody>\n",
       "</table>\n",
       "</div>"
      ],
      "text/plain": [
       "   user_id group\n",
       "0     9149     B\n",
       "1     9150     B\n",
       "2     9151     A\n",
       "3     9152     B\n",
       "4     9153     B"
      ]
     },
     "execution_count": 6,
     "metadata": {},
     "output_type": "execute_result"
    }
   ],
   "source": [
    "#разбивка пользователей на контрольную (А) и тестовую (В) группы.\n",
    "groupAB_users = pd.read_csv('Проект_4_groups.csv',sep=\",\")\n",
    "groupAB_users.head()"
   ]
  },
  {
   "cell_type": "code",
   "execution_count": 7,
   "metadata": {},
   "outputs": [
    {
     "data": {
      "text/plain": [
       "(74576, 2)"
      ]
     },
     "execution_count": 7,
     "metadata": {},
     "output_type": "execute_result"
    }
   ],
   "source": [
    "groupAB_users.shape"
   ]
  },
  {
   "cell_type": "code",
   "execution_count": 8,
   "metadata": {},
   "outputs": [
    {
     "data": {
      "text/plain": [
       "74576"
      ]
     },
     "execution_count": 8,
     "metadata": {},
     "output_type": "execute_result"
    }
   ],
   "source": [
    "#Все user оказались уникальными\n",
    "groupAB_users.user_id.nunique()"
   ]
  },
  {
   "cell_type": "code",
   "execution_count": 9,
   "metadata": {},
   "outputs": [
    {
     "data": {
      "text/html": [
       "<div>\n",
       "<style scoped>\n",
       "    .dataframe tbody tr th:only-of-type {\n",
       "        vertical-align: middle;\n",
       "    }\n",
       "\n",
       "    .dataframe tbody tr th {\n",
       "        vertical-align: top;\n",
       "    }\n",
       "\n",
       "    .dataframe thead th {\n",
       "        text-align: right;\n",
       "    }\n",
       "</style>\n",
       "<table border=\"1\" class=\"dataframe\">\n",
       "  <thead>\n",
       "    <tr style=\"text-align: right;\">\n",
       "      <th></th>\n",
       "      <th>user_id</th>\n",
       "      <th>number_participants</th>\n",
       "    </tr>\n",
       "  </thead>\n",
       "  <tbody>\n",
       "    <tr>\n",
       "      <th>0</th>\n",
       "      <td>0</td>\n",
       "      <td>1</td>\n",
       "    </tr>\n",
       "    <tr>\n",
       "      <th>49721</th>\n",
       "      <td>50380</td>\n",
       "      <td>1</td>\n",
       "    </tr>\n",
       "    <tr>\n",
       "      <th>49720</th>\n",
       "      <td>50379</td>\n",
       "      <td>1</td>\n",
       "    </tr>\n",
       "    <tr>\n",
       "      <th>49719</th>\n",
       "      <td>50378</td>\n",
       "      <td>1</td>\n",
       "    </tr>\n",
       "    <tr>\n",
       "      <th>49718</th>\n",
       "      <td>50377</td>\n",
       "      <td>1</td>\n",
       "    </tr>\n",
       "    <tr>\n",
       "      <th>...</th>\n",
       "      <td>...</td>\n",
       "      <td>...</td>\n",
       "    </tr>\n",
       "    <tr>\n",
       "      <th>24855</th>\n",
       "      <td>25514</td>\n",
       "      <td>1</td>\n",
       "    </tr>\n",
       "    <tr>\n",
       "      <th>24854</th>\n",
       "      <td>25513</td>\n",
       "      <td>1</td>\n",
       "    </tr>\n",
       "    <tr>\n",
       "      <th>24853</th>\n",
       "      <td>25512</td>\n",
       "      <td>1</td>\n",
       "    </tr>\n",
       "    <tr>\n",
       "      <th>24833</th>\n",
       "      <td>25492</td>\n",
       "      <td>1</td>\n",
       "    </tr>\n",
       "    <tr>\n",
       "      <th>74575</th>\n",
       "      <td>75234</td>\n",
       "      <td>1</td>\n",
       "    </tr>\n",
       "  </tbody>\n",
       "</table>\n",
       "<p>74576 rows × 2 columns</p>\n",
       "</div>"
      ],
      "text/plain": [
       "       user_id  number_participants\n",
       "0            0                    1\n",
       "49721    50380                    1\n",
       "49720    50379                    1\n",
       "49719    50378                    1\n",
       "49718    50377                    1\n",
       "...        ...                  ...\n",
       "24855    25514                    1\n",
       "24854    25513                    1\n",
       "24853    25512                    1\n",
       "24833    25492                    1\n",
       "74575    75234                    1\n",
       "\n",
       "[74576 rows x 2 columns]"
      ]
     },
     "execution_count": 9,
     "metadata": {},
     "output_type": "execute_result"
    }
   ],
   "source": [
    "#Количество участия одного пользователя в эксперименте, все участвовали по одному разу.\n",
    "groupAB_users.groupby('user_id', as_index=False)\\\n",
    "            .agg({'group': 'count'})\\\n",
    "            .rename(columns = {'group': 'number_participants'})\\\n",
    "            .sort_values(['number_participants'], ascending=[True])"
   ]
  },
  {
   "cell_type": "markdown",
   "metadata": {},
   "source": [
    "**Таблица с покупками:**\n",
    "\n",
    "* user_id —  уникальный идентификатор пользователя\n",
    "* revenue —  доход с пользователя во время эксперимента"
   ]
  },
  {
   "cell_type": "code",
   "execution_count": 10,
   "metadata": {},
   "outputs": [
    {
     "data": {
      "text/html": [
       "<div>\n",
       "<style scoped>\n",
       "    .dataframe tbody tr th:only-of-type {\n",
       "        vertical-align: middle;\n",
       "    }\n",
       "\n",
       "    .dataframe tbody tr th {\n",
       "        vertical-align: top;\n",
       "    }\n",
       "\n",
       "    .dataframe thead th {\n",
       "        text-align: right;\n",
       "    }\n",
       "</style>\n",
       "<table border=\"1\" class=\"dataframe\">\n",
       "  <thead>\n",
       "    <tr style=\"text-align: right;\">\n",
       "      <th></th>\n",
       "      <th>user_id</th>\n",
       "      <th>revenue</th>\n",
       "    </tr>\n",
       "  </thead>\n",
       "  <tbody>\n",
       "    <tr>\n",
       "      <th>0</th>\n",
       "      <td>4412</td>\n",
       "      <td>1000.0</td>\n",
       "    </tr>\n",
       "    <tr>\n",
       "      <th>1</th>\n",
       "      <td>9000</td>\n",
       "      <td>701.0</td>\n",
       "    </tr>\n",
       "    <tr>\n",
       "      <th>2</th>\n",
       "      <td>9001</td>\n",
       "      <td>700.0</td>\n",
       "    </tr>\n",
       "    <tr>\n",
       "      <th>3</th>\n",
       "      <td>9002</td>\n",
       "      <td>702.0</td>\n",
       "    </tr>\n",
       "    <tr>\n",
       "      <th>4</th>\n",
       "      <td>5790</td>\n",
       "      <td>1002.0</td>\n",
       "    </tr>\n",
       "  </tbody>\n",
       "</table>\n",
       "</div>"
      ],
      "text/plain": [
       "   user_id  revenue\n",
       "0     4412   1000.0\n",
       "1     9000    701.0\n",
       "2     9001    700.0\n",
       "3     9002    702.0\n",
       "4     5790   1002.0"
      ]
     },
     "execution_count": 10,
     "metadata": {},
     "output_type": "execute_result"
    }
   ],
   "source": [
    "purchases  = pd.read_csv('Проект_4_purchases.csv',sep=\",\")\n",
    "purchases.head()"
   ]
  },
  {
   "cell_type": "code",
   "execution_count": 11,
   "metadata": {},
   "outputs": [
    {
     "data": {
      "text/plain": [
       "(541, 2)"
      ]
     },
     "execution_count": 11,
     "metadata": {},
     "output_type": "execute_result"
    }
   ],
   "source": [
    "purchases.shape"
   ]
  },
  {
   "cell_type": "code",
   "execution_count": 12,
   "metadata": {
    "scrolled": true
   },
   "outputs": [
    {
     "data": {
      "text/plain": [
       "541"
      ]
     },
     "execution_count": 12,
     "metadata": {},
     "output_type": "execute_result"
    }
   ],
   "source": [
    "#нет повторных покупок\n",
    "purchases.user_id.nunique()"
   ]
  },
  {
   "cell_type": "code",
   "execution_count": 13,
   "metadata": {},
   "outputs": [],
   "source": [
    "#объединение таблиц покупки с группами в эксперименте\n",
    "purchase_with_groupAB = pd.merge(groupAB_users, purchases, on=['user_id'],how='left')\n",
    "purchase_with_groupAB['revenue'] = purchase_with_groupAB['revenue'].fillna(0)"
   ]
  },
  {
   "cell_type": "code",
   "execution_count": 14,
   "metadata": {},
   "outputs": [
    {
     "data": {
      "text/html": [
       "<div>\n",
       "<style scoped>\n",
       "    .dataframe tbody tr th:only-of-type {\n",
       "        vertical-align: middle;\n",
       "    }\n",
       "\n",
       "    .dataframe tbody tr th {\n",
       "        vertical-align: top;\n",
       "    }\n",
       "\n",
       "    .dataframe thead th {\n",
       "        text-align: right;\n",
       "    }\n",
       "</style>\n",
       "<table border=\"1\" class=\"dataframe\">\n",
       "  <thead>\n",
       "    <tr style=\"text-align: right;\">\n",
       "      <th></th>\n",
       "      <th>group</th>\n",
       "      <th>revenue</th>\n",
       "    </tr>\n",
       "  </thead>\n",
       "  <tbody>\n",
       "    <tr>\n",
       "      <th>0</th>\n",
       "      <td>A</td>\n",
       "      <td>93162.0</td>\n",
       "    </tr>\n",
       "    <tr>\n",
       "      <th>1</th>\n",
       "      <td>B</td>\n",
       "      <td>485575.0</td>\n",
       "    </tr>\n",
       "  </tbody>\n",
       "</table>\n",
       "</div>"
      ],
      "text/plain": [
       "  group   revenue\n",
       "0     A   93162.0\n",
       "1     B  485575.0"
      ]
     },
     "execution_count": 14,
     "metadata": {},
     "output_type": "execute_result"
    }
   ],
   "source": [
    "#доход с разных групп во время эксперимента\n",
    "purchase_with_groupAB.groupby('group', as_index=False)\\\n",
    "            .agg({'revenue': 'sum'})\n",
    "            "
   ]
  },
  {
   "cell_type": "code",
   "execution_count": 15,
   "metadata": {},
   "outputs": [
    {
     "data": {
      "text/html": [
       "<div>\n",
       "<style scoped>\n",
       "    .dataframe tbody tr th:only-of-type {\n",
       "        vertical-align: middle;\n",
       "    }\n",
       "\n",
       "    .dataframe tbody tr th {\n",
       "        vertical-align: top;\n",
       "    }\n",
       "\n",
       "    .dataframe thead th {\n",
       "        text-align: right;\n",
       "    }\n",
       "</style>\n",
       "<table border=\"1\" class=\"dataframe\">\n",
       "  <thead>\n",
       "    <tr style=\"text-align: right;\">\n",
       "      <th></th>\n",
       "      <th>user_id</th>\n",
       "      <th>group</th>\n",
       "      <th>country</th>\n",
       "      <th>platform</th>\n",
       "      <th>sex</th>\n",
       "    </tr>\n",
       "  </thead>\n",
       "  <tbody>\n",
       "    <tr>\n",
       "      <th>0</th>\n",
       "      <td>1488</td>\n",
       "      <td>B</td>\n",
       "      <td>Russia</td>\n",
       "      <td>android</td>\n",
       "      <td>male</td>\n",
       "    </tr>\n",
       "    <tr>\n",
       "      <th>1</th>\n",
       "      <td>5125</td>\n",
       "      <td>B</td>\n",
       "      <td>Russia</td>\n",
       "      <td>ios</td>\n",
       "      <td>female</td>\n",
       "    </tr>\n",
       "    <tr>\n",
       "      <th>2</th>\n",
       "      <td>3196</td>\n",
       "      <td>A</td>\n",
       "      <td>Russia</td>\n",
       "      <td>ios</td>\n",
       "      <td>female</td>\n",
       "    </tr>\n",
       "    <tr>\n",
       "      <th>3</th>\n",
       "      <td>1749</td>\n",
       "      <td>B</td>\n",
       "      <td>Russia</td>\n",
       "      <td>android</td>\n",
       "      <td>male</td>\n",
       "    </tr>\n",
       "    <tr>\n",
       "      <th>4</th>\n",
       "      <td>4994</td>\n",
       "      <td>B</td>\n",
       "      <td>Sweden</td>\n",
       "      <td>android</td>\n",
       "      <td>male</td>\n",
       "    </tr>\n",
       "    <tr>\n",
       "      <th>...</th>\n",
       "      <td>...</td>\n",
       "      <td>...</td>\n",
       "      <td>...</td>\n",
       "      <td>...</td>\n",
       "      <td>...</td>\n",
       "    </tr>\n",
       "    <tr>\n",
       "      <th>8336</th>\n",
       "      <td>1010</td>\n",
       "      <td>B</td>\n",
       "      <td>Sweden</td>\n",
       "      <td>android</td>\n",
       "      <td>male</td>\n",
       "    </tr>\n",
       "    <tr>\n",
       "      <th>8337</th>\n",
       "      <td>7785</td>\n",
       "      <td>A</td>\n",
       "      <td>Sweden</td>\n",
       "      <td>android</td>\n",
       "      <td>male</td>\n",
       "    </tr>\n",
       "    <tr>\n",
       "      <th>8338</th>\n",
       "      <td>1783</td>\n",
       "      <td>B</td>\n",
       "      <td>Russia</td>\n",
       "      <td>ios</td>\n",
       "      <td>female</td>\n",
       "    </tr>\n",
       "    <tr>\n",
       "      <th>8339</th>\n",
       "      <td>1164</td>\n",
       "      <td>A</td>\n",
       "      <td>Sweden</td>\n",
       "      <td>android</td>\n",
       "      <td>male</td>\n",
       "    </tr>\n",
       "    <tr>\n",
       "      <th>8340</th>\n",
       "      <td>6282</td>\n",
       "      <td>B</td>\n",
       "      <td>Russia</td>\n",
       "      <td>android</td>\n",
       "      <td>female</td>\n",
       "    </tr>\n",
       "  </tbody>\n",
       "</table>\n",
       "<p>8341 rows × 5 columns</p>\n",
       "</div>"
      ],
      "text/plain": [
       "      user_id group country platform     sex\n",
       "0        1488     B  Russia  android    male\n",
       "1        5125     B  Russia      ios  female\n",
       "2        3196     A  Russia      ios  female\n",
       "3        1749     B  Russia  android    male\n",
       "4        4994     B  Sweden  android    male\n",
       "...       ...   ...     ...      ...     ...\n",
       "8336     1010     B  Sweden  android    male\n",
       "8337     7785     A  Sweden  android    male\n",
       "8338     1783     B  Russia      ios  female\n",
       "8339     1164     A  Sweden  android    male\n",
       "8340     6282     B  Russia  android  female\n",
       "\n",
       "[8341 rows x 5 columns]"
      ]
     },
     "execution_count": 15,
     "metadata": {},
     "output_type": "execute_result"
    }
   ],
   "source": [
    "#объединение таблиц информация о пользователей с группами в эксперименте\n",
    "active_users_with_groupAB = pd.merge(groupAB_users, active_users, on=['user_id'])\n",
    "active_users_with_groupAB"
   ]
  },
  {
   "cell_type": "code",
   "execution_count": 16,
   "metadata": {},
   "outputs": [
    {
     "data": {
      "text/html": [
       "<div>\n",
       "<style scoped>\n",
       "    .dataframe tbody tr th:only-of-type {\n",
       "        vertical-align: middle;\n",
       "    }\n",
       "\n",
       "    .dataframe tbody tr th {\n",
       "        vertical-align: top;\n",
       "    }\n",
       "\n",
       "    .dataframe thead th {\n",
       "        text-align: right;\n",
       "    }\n",
       "</style>\n",
       "<table border=\"1\" class=\"dataframe\">\n",
       "  <thead>\n",
       "    <tr style=\"text-align: right;\">\n",
       "      <th></th>\n",
       "      <th>group</th>\n",
       "      <th>user_id</th>\n",
       "    </tr>\n",
       "  </thead>\n",
       "  <tbody>\n",
       "    <tr>\n",
       "      <th>0</th>\n",
       "      <td>A</td>\n",
       "      <td>1538</td>\n",
       "    </tr>\n",
       "    <tr>\n",
       "      <th>1</th>\n",
       "      <td>B</td>\n",
       "      <td>6803</td>\n",
       "    </tr>\n",
       "  </tbody>\n",
       "</table>\n",
       "</div>"
      ],
      "text/plain": [
       "  group  user_id\n",
       "0     A     1538\n",
       "1     B     6803"
      ]
     },
     "execution_count": 16,
     "metadata": {},
     "output_type": "execute_result"
    }
   ],
   "source": [
    "#Количество пользователей с разных групп во время эксперимента\n",
    "active_users_with_groupAB.groupby('group', as_index=False)\\\n",
    "            .agg({'user_id': 'count'})"
   ]
  },
  {
   "cell_type": "code",
   "execution_count": 17,
   "metadata": {},
   "outputs": [
    {
     "data": {
      "text/html": [
       "<div>\n",
       "<style scoped>\n",
       "    .dataframe tbody tr th:only-of-type {\n",
       "        vertical-align: middle;\n",
       "    }\n",
       "\n",
       "    .dataframe tbody tr th {\n",
       "        vertical-align: top;\n",
       "    }\n",
       "\n",
       "    .dataframe thead th {\n",
       "        text-align: right;\n",
       "    }\n",
       "</style>\n",
       "<table border=\"1\" class=\"dataframe\">\n",
       "  <thead>\n",
       "    <tr style=\"text-align: right;\">\n",
       "      <th></th>\n",
       "      <th>user_id</th>\n",
       "      <th>group</th>\n",
       "      <th>country</th>\n",
       "      <th>platform</th>\n",
       "      <th>sex</th>\n",
       "      <th>revenue</th>\n",
       "    </tr>\n",
       "  </thead>\n",
       "  <tbody>\n",
       "    <tr>\n",
       "      <th>0</th>\n",
       "      <td>1488</td>\n",
       "      <td>B</td>\n",
       "      <td>Russia</td>\n",
       "      <td>android</td>\n",
       "      <td>male</td>\n",
       "      <td>0.0</td>\n",
       "    </tr>\n",
       "    <tr>\n",
       "      <th>1</th>\n",
       "      <td>5125</td>\n",
       "      <td>B</td>\n",
       "      <td>Russia</td>\n",
       "      <td>ios</td>\n",
       "      <td>female</td>\n",
       "      <td>0.0</td>\n",
       "    </tr>\n",
       "    <tr>\n",
       "      <th>2</th>\n",
       "      <td>3196</td>\n",
       "      <td>A</td>\n",
       "      <td>Russia</td>\n",
       "      <td>ios</td>\n",
       "      <td>female</td>\n",
       "      <td>0.0</td>\n",
       "    </tr>\n",
       "    <tr>\n",
       "      <th>3</th>\n",
       "      <td>1749</td>\n",
       "      <td>B</td>\n",
       "      <td>Russia</td>\n",
       "      <td>android</td>\n",
       "      <td>male</td>\n",
       "      <td>0.0</td>\n",
       "    </tr>\n",
       "    <tr>\n",
       "      <th>4</th>\n",
       "      <td>4994</td>\n",
       "      <td>B</td>\n",
       "      <td>Sweden</td>\n",
       "      <td>android</td>\n",
       "      <td>male</td>\n",
       "      <td>0.0</td>\n",
       "    </tr>\n",
       "    <tr>\n",
       "      <th>...</th>\n",
       "      <td>...</td>\n",
       "      <td>...</td>\n",
       "      <td>...</td>\n",
       "      <td>...</td>\n",
       "      <td>...</td>\n",
       "      <td>...</td>\n",
       "    </tr>\n",
       "    <tr>\n",
       "      <th>8336</th>\n",
       "      <td>1010</td>\n",
       "      <td>B</td>\n",
       "      <td>Sweden</td>\n",
       "      <td>android</td>\n",
       "      <td>male</td>\n",
       "      <td>0.0</td>\n",
       "    </tr>\n",
       "    <tr>\n",
       "      <th>8337</th>\n",
       "      <td>7785</td>\n",
       "      <td>A</td>\n",
       "      <td>Sweden</td>\n",
       "      <td>android</td>\n",
       "      <td>male</td>\n",
       "      <td>0.0</td>\n",
       "    </tr>\n",
       "    <tr>\n",
       "      <th>8338</th>\n",
       "      <td>1783</td>\n",
       "      <td>B</td>\n",
       "      <td>Russia</td>\n",
       "      <td>ios</td>\n",
       "      <td>female</td>\n",
       "      <td>0.0</td>\n",
       "    </tr>\n",
       "    <tr>\n",
       "      <th>8339</th>\n",
       "      <td>1164</td>\n",
       "      <td>A</td>\n",
       "      <td>Sweden</td>\n",
       "      <td>android</td>\n",
       "      <td>male</td>\n",
       "      <td>0.0</td>\n",
       "    </tr>\n",
       "    <tr>\n",
       "      <th>8340</th>\n",
       "      <td>6282</td>\n",
       "      <td>B</td>\n",
       "      <td>Russia</td>\n",
       "      <td>android</td>\n",
       "      <td>female</td>\n",
       "      <td>0.0</td>\n",
       "    </tr>\n",
       "  </tbody>\n",
       "</table>\n",
       "<p>8341 rows × 6 columns</p>\n",
       "</div>"
      ],
      "text/plain": [
       "      user_id group country platform     sex  revenue\n",
       "0        1488     B  Russia  android    male      0.0\n",
       "1        5125     B  Russia      ios  female      0.0\n",
       "2        3196     A  Russia      ios  female      0.0\n",
       "3        1749     B  Russia  android    male      0.0\n",
       "4        4994     B  Sweden  android    male      0.0\n",
       "...       ...   ...     ...      ...     ...      ...\n",
       "8336     1010     B  Sweden  android    male      0.0\n",
       "8337     7785     A  Sweden  android    male      0.0\n",
       "8338     1783     B  Russia      ios  female      0.0\n",
       "8339     1164     A  Sweden  android    male      0.0\n",
       "8340     6282     B  Russia  android  female      0.0\n",
       "\n",
       "[8341 rows x 6 columns]"
      ]
     },
     "execution_count": 17,
     "metadata": {},
     "output_type": "execute_result"
    }
   ],
   "source": [
    "#объединение таблиц покупки с группами в эксперименте и информацией о пользователе\n",
    "user_purchase_with_groupAB = pd.merge(active_users_with_groupAB, purchases, on=['user_id'],how='left')\n",
    "user_purchase_with_groupAB['revenue'] = user_purchase_with_groupAB['revenue'].fillna(0)\n",
    "user_purchase_with_groupAB"
   ]
  },
  {
   "cell_type": "code",
   "execution_count": 18,
   "metadata": {},
   "outputs": [
    {
     "data": {
      "text/html": [
       "<div>\n",
       "<style scoped>\n",
       "    .dataframe tbody tr th:only-of-type {\n",
       "        vertical-align: middle;\n",
       "    }\n",
       "\n",
       "    .dataframe tbody tr th {\n",
       "        vertical-align: top;\n",
       "    }\n",
       "\n",
       "    .dataframe thead th {\n",
       "        text-align: right;\n",
       "    }\n",
       "</style>\n",
       "<table border=\"1\" class=\"dataframe\">\n",
       "  <thead>\n",
       "    <tr style=\"text-align: right;\">\n",
       "      <th></th>\n",
       "      <th>platform</th>\n",
       "      <th>user_id</th>\n",
       "    </tr>\n",
       "  </thead>\n",
       "  <tbody>\n",
       "    <tr>\n",
       "      <th>0</th>\n",
       "      <td>android</td>\n",
       "      <td>4621</td>\n",
       "    </tr>\n",
       "    <tr>\n",
       "      <th>1</th>\n",
       "      <td>ios</td>\n",
       "      <td>3720</td>\n",
       "    </tr>\n",
       "  </tbody>\n",
       "</table>\n",
       "</div>"
      ],
      "text/plain": [
       "  platform  user_id\n",
       "0  android     4621\n",
       "1      ios     3720"
      ]
     },
     "execution_count": 18,
     "metadata": {},
     "output_type": "execute_result"
    }
   ],
   "source": [
    "user_purchase_with_groupAB.groupby('platform', as_index=False)\\\n",
    "            .agg({'user_id': 'count'})"
   ]
  },
  {
   "cell_type": "code",
   "execution_count": 19,
   "metadata": {},
   "outputs": [
    {
     "data": {
      "text/html": [
       "<div>\n",
       "<style scoped>\n",
       "    .dataframe tbody tr th:only-of-type {\n",
       "        vertical-align: middle;\n",
       "    }\n",
       "\n",
       "    .dataframe tbody tr th {\n",
       "        vertical-align: top;\n",
       "    }\n",
       "\n",
       "    .dataframe thead th {\n",
       "        text-align: right;\n",
       "    }\n",
       "</style>\n",
       "<table border=\"1\" class=\"dataframe\">\n",
       "  <thead>\n",
       "    <tr style=\"text-align: right;\">\n",
       "      <th></th>\n",
       "      <th>platform</th>\n",
       "      <th>revenue</th>\n",
       "    </tr>\n",
       "  </thead>\n",
       "  <tbody>\n",
       "    <tr>\n",
       "      <th>0</th>\n",
       "      <td>android</td>\n",
       "      <td>248180.0</td>\n",
       "    </tr>\n",
       "    <tr>\n",
       "      <th>1</th>\n",
       "      <td>ios</td>\n",
       "      <td>223531.0</td>\n",
       "    </tr>\n",
       "  </tbody>\n",
       "</table>\n",
       "</div>"
      ],
      "text/plain": [
       "  platform   revenue\n",
       "0  android  248180.0\n",
       "1      ios  223531.0"
      ]
     },
     "execution_count": 19,
     "metadata": {},
     "output_type": "execute_result"
    }
   ],
   "source": [
    "user_purchase_with_groupAB.groupby('platform', as_index=False)\\\n",
    "            .agg({'revenue': 'sum'})"
   ]
  },
  {
   "cell_type": "code",
   "execution_count": 20,
   "metadata": {},
   "outputs": [],
   "source": [
    "user_avg = user_purchase_with_groupAB.groupby(['group','platform'], as_index=False)\\\n",
    "            .agg({'revenue': 'sum','user_id': 'count' })"
   ]
  },
  {
   "cell_type": "code",
   "execution_count": 21,
   "metadata": {},
   "outputs": [],
   "source": [
    "user_avg['avg'] = user_avg.revenue/user_avg.user_id"
   ]
  },
  {
   "cell_type": "code",
   "execution_count": 22,
   "metadata": {},
   "outputs": [
    {
     "data": {
      "text/html": [
       "<div>\n",
       "<style scoped>\n",
       "    .dataframe tbody tr th:only-of-type {\n",
       "        vertical-align: middle;\n",
       "    }\n",
       "\n",
       "    .dataframe tbody tr th {\n",
       "        vertical-align: top;\n",
       "    }\n",
       "\n",
       "    .dataframe thead th {\n",
       "        text-align: right;\n",
       "    }\n",
       "</style>\n",
       "<table border=\"1\" class=\"dataframe\">\n",
       "  <thead>\n",
       "    <tr style=\"text-align: right;\">\n",
       "      <th></th>\n",
       "      <th>group</th>\n",
       "      <th>platform</th>\n",
       "      <th>revenue</th>\n",
       "      <th>user_id</th>\n",
       "      <th>avg</th>\n",
       "    </tr>\n",
       "  </thead>\n",
       "  <tbody>\n",
       "    <tr>\n",
       "      <th>0</th>\n",
       "      <td>A</td>\n",
       "      <td>android</td>\n",
       "      <td>39898.0</td>\n",
       "      <td>834</td>\n",
       "      <td>47.839329</td>\n",
       "    </tr>\n",
       "    <tr>\n",
       "      <th>1</th>\n",
       "      <td>A</td>\n",
       "      <td>ios</td>\n",
       "      <td>33700.0</td>\n",
       "      <td>704</td>\n",
       "      <td>47.869318</td>\n",
       "    </tr>\n",
       "    <tr>\n",
       "      <th>2</th>\n",
       "      <td>B</td>\n",
       "      <td>android</td>\n",
       "      <td>208282.0</td>\n",
       "      <td>3787</td>\n",
       "      <td>54.999208</td>\n",
       "    </tr>\n",
       "    <tr>\n",
       "      <th>3</th>\n",
       "      <td>B</td>\n",
       "      <td>ios</td>\n",
       "      <td>189831.0</td>\n",
       "      <td>3016</td>\n",
       "      <td>62.941313</td>\n",
       "    </tr>\n",
       "  </tbody>\n",
       "</table>\n",
       "</div>"
      ],
      "text/plain": [
       "  group platform   revenue  user_id        avg\n",
       "0     A  android   39898.0      834  47.839329\n",
       "1     A      ios   33700.0      704  47.869318\n",
       "2     B  android  208282.0     3787  54.999208\n",
       "3     B      ios  189831.0     3016  62.941313"
      ]
     },
     "execution_count": 22,
     "metadata": {},
     "output_type": "execute_result"
    }
   ],
   "source": [
    "user_avg"
   ]
  },
  {
   "cell_type": "code",
   "execution_count": 23,
   "metadata": {},
   "outputs": [],
   "source": [
    "def fun_CR (a):\n",
    "    \"\"\"Расчет CR\"\"\"\n",
    "    a_A = a.query('group == \"A\"')\n",
    "    a_B = a.query('group == \"B\"')\n",
    "    CR_all = round(a.query('revenue>0').shape[0]/a.shape[0]*100,5)\n",
    "    CR_A = round(a_A.query('revenue>0').shape[0]/a_A.shape[0]*100,5)\n",
    "    CR_B = round(a_B.query('revenue>0').shape[0]/a_B.shape[0]*100,5)\n",
    "    print(f'CR_all,%:', CR_all)\n",
    "    print(f'CR_A,%:', CR_A)\n",
    "    print(f'CR_B,%:', CR_B)"
   ]
  },
  {
   "cell_type": "code",
   "execution_count": 89,
   "metadata": {},
   "outputs": [],
   "source": [
    "def fun_chi2 (b):\n",
    "    \"\"\"Функция для использования хи2 с решением по гипотезам\"\"\"\n",
    "    stat, p, dof, expected = chi2_contingency(pd.crosstab(b.CR, b.group))\n",
    "    print(stat, p)\n",
    "    p_value = p\n",
    "    prob = 0.95\n",
    "    alpha = 1.0 - prob\n",
    "    if p <= alpha:\n",
    "        print('Отклоняем H0')\n",
    "    else:\n",
    "        print('Не отклоняем H0')\n",
    "    return p_value"
   ]
  },
  {
   "cell_type": "code",
   "execution_count": 80,
   "metadata": {},
   "outputs": [],
   "source": [
    "def fun_arpu (a):\n",
    "    \"\"\"Расчет ARPU\"\"\"\n",
    "    a_A = a.query('group == \"A\"')\n",
    "    a_B = a.query('group == \"B\"')\n",
    "    ARPU_all = round(a['revenue'].sum()/a.shape[0],2)\n",
    "    ARPU_A = round(a_A['revenue'].sum()/a_A.shape[0],2)\n",
    "    ARPU_B = round(a_B['revenue'].sum()/a_B.shape[0],2)\n",
    "    print(f'ARPU_all:', ARPU_all)\n",
    "    print(f'ARPU_A:', ARPU_A )\n",
    "    print(f'ARPU_B:', ARPU_B)"
   ]
  },
  {
   "cell_type": "code",
   "execution_count": 81,
   "metadata": {},
   "outputs": [],
   "source": [
    "def get_bootstrap_mean(\n",
    "    data_column_1, # числовые значения первой выборки\n",
    "    data_column_2, # числовые значения второй выборки\n",
    "    boot_it = 1000, # количество бутстрэп-подвыборок\n",
    "    statistic = np.mean, # интересующая нас статистика\n",
    "    bootstrap_conf_level = 0.95 # уровень значимости\n",
    "):\n",
    "\n",
    "    \"\"\"Функция, которая позволит проверять гипотезы с помощью бутстрапа MEAN\"\"\"\n",
    " \n",
    "    boot_len = max([len(data_column_1), len(data_column_2)])\n",
    "    boot_data = []\n",
    "    for i in tqdm(range(boot_it)): # извлекаем подвыборки\n",
    "        samples_1 = data_column_1.sample(\n",
    "            boot_len, \n",
    "            replace = True # параметр возвращения\n",
    "        ).values\n",
    "        \n",
    "        samples_2 = data_column_2.sample(\n",
    "            boot_len, \n",
    "            replace = True\n",
    "        ).values\n",
    "        \n",
    "        boot_data.append(statistic(samples_1-samples_2)) # mean() - применяем статистику\n",
    "        \n",
    "    pd_boot_data = pd.DataFrame(boot_data)\n",
    "        \n",
    "    left_quant = (1 - bootstrap_conf_level)/2\n",
    "    right_quant = 1 - (1 - bootstrap_conf_level) / 2\n",
    "    ci = pd_boot_data.quantile([left_quant, right_quant])\n",
    "        \n",
    "    p_1 = norm.cdf(\n",
    "        x = 0, \n",
    "        loc = np.mean(boot_data), \n",
    "        scale = np.std(boot_data)\n",
    "    )\n",
    "    p_2 = norm.cdf(\n",
    "        x = 0, \n",
    "        loc = -np.mean(boot_data), \n",
    "        scale = np.std(boot_data)\n",
    "    )\n",
    "    p_value = min(p_1, p_2) * 2\n",
    "        \n",
    "    # Визуализация\n",
    "    plt.hist(pd_boot_data[0], bins = 50)\n",
    "    \n",
    "    plt.style.use('ggplot')\n",
    "    plt.vlines(ci,ymin=0,ymax=50,linestyle='--')\n",
    "    plt.xlabel('boot_data')\n",
    "    plt.ylabel('frequency')\n",
    "    plt.title(\"Histogram of boot_data\")\n",
    "    plt.show()\n",
    "       \n",
    "    return {\"boot_data\": boot_data, \n",
    "            \"ci\": ci, \n",
    "            \"p_value\": p_value}"
   ]
  },
  {
   "cell_type": "code",
   "execution_count": 82,
   "metadata": {},
   "outputs": [],
   "source": [
    "def fun_user_pay (a):   \n",
    "    \"\"\"Расчет количества платящих пользователей\"\"\"\n",
    "    a_A = a.query('group == \"A\"')\n",
    "    a_B = a.query('group == \"B\"')\n",
    "    purchase_with_groupAB_pay = a.query('revenue>0')\n",
    "    purchase_group_A_pay = a_A.query('revenue>0')\n",
    "    purchase_group_B_pay = a_B.query('revenue>0')\n",
    "    users_purchase_all = purchase_with_groupAB_pay.shape[0]\n",
    "    users_purchase_A = purchase_group_A_pay.shape[0]\n",
    "    users_purchase_B = purchase_group_B_pay.shape[0]\n",
    "    print(f'Number of all users who pay:', users_purchase_all)\n",
    "    print(f'Number of all users who pay in A:', users_purchase_A)\n",
    "    print(f'Number of all users who pay in B:', users_purchase_B)"
   ]
  },
  {
   "cell_type": "code",
   "execution_count": 88,
   "metadata": {},
   "outputs": [],
   "source": [
    "def fun_mann (b):\n",
    "    \"\"\"Функция для решения по гипотезам по Mann-Whitney U test\"\"\"\n",
    "    b_A = b.query('group == \"A\"')\n",
    "    b_B = b.query('group == \"B\"')\n",
    "    data1 = b_B.revenue\n",
    "    data2 = b_A.revenue\n",
    "    # compare samples\n",
    "    stat, p = mannwhitneyu(data1, data2)\n",
    "    print('Statistics=%.3f, p=%.3f' % (stat, p))\n",
    "    p_value = p\n",
    "    prob = 0.95\n",
    "    alpha = 1.0 - prob\n",
    "    if p <= alpha:\n",
    "        print('Отклоняем H0')\n",
    "    else:\n",
    "        print('Не отклоняем H0')\n",
    "    return p_value"
   ]
  },
  {
   "cell_type": "code",
   "execution_count": 84,
   "metadata": {},
   "outputs": [],
   "source": [
    "def fun_arppu (a):\n",
    "    \"\"\"Расчет ARPPU \"\"\"\n",
    "    a_A = a.query('group == \"A\"')\n",
    "    a_B = a.query('group == \"B\"')\n",
    "    ARPPU_all = round(a.query('revenue>0')['revenue'].sum()/a.query('revenue>0').shape[0],2)\n",
    "    ARPPU_A = round(a_A.query('revenue>0')['revenue'].sum()/a_A.query('revenue>0').shape[0],2)\n",
    "    ARPPU_B = round(a_B.query('revenue>0')['revenue'].sum()/a_B.query('revenue>0').shape[0],2)\n",
    "    print(f'ARPPU_all:', ARPPU_all)\n",
    "    print(f'ARPPU_A:', ARPPU_A )\n",
    "    print(f'ARPPU_B:', ARPPU_B)"
   ]
  },
  {
   "cell_type": "markdown",
   "metadata": {},
   "source": [
    "**Метрики без деления на платформы IOS и Android:**\n",
    "\n",
    "* Конверсия в покупку\n",
    "* Средняя выручка на пользователя=Средний чек на пользователя\n",
    "* Средняя выручка на платящего пользователя=Средний чек на платящего пользователя\n",
    "* Количество платящих пользователей"
   ]
  },
  {
   "cell_type": "code",
   "execution_count": 30,
   "metadata": {},
   "outputs": [],
   "source": [
    "purchase_with_groupAB['CR'] = np.where(purchase_with_groupAB.revenue > 0, 1, 0)"
   ]
  },
  {
   "cell_type": "code",
   "execution_count": 31,
   "metadata": {},
   "outputs": [],
   "source": [
    "purchase_group_A = purchase_with_groupAB.query('group==\"A\"')\n",
    "purchase_group_B = purchase_with_groupAB.query('group==\"B\"')"
   ]
  },
  {
   "cell_type": "code",
   "execution_count": 32,
   "metadata": {},
   "outputs": [
    {
     "name": "stdout",
     "output_type": "stream",
     "text": [
      "CR_all,%: 0.72543\n",
      "CR_A,%: 0.72824\n",
      "CR_B,%: 0.72475\n"
     ]
    }
   ],
   "source": [
    "#Конверсия в покупку CR для всех пользователей\n",
    "fun_CR(purchase_with_groupAB)"
   ]
  },
  {
   "cell_type": "markdown",
   "metadata": {},
   "source": [
    "**Проверяем (тестируем) гипотезу с помощью ХИ-квадрат**<br/>\n",
    "H0: CR в тестовой группе A **значимо не отличается** от CR в группе B<br/>\n",
    "H1: CR в тестовой группе A **значимо отличается** от CR в группе B"
   ]
  },
  {
   "cell_type": "code",
   "execution_count": 92,
   "metadata": {},
   "outputs": [
    {
     "name": "stdout",
     "output_type": "stream",
     "text": [
      "0.0 1.0\n",
      "Не отклоняем H0\n",
      "1.0\n"
     ]
    }
   ],
   "source": [
    "p1 = fun_chi2 (purchase_with_groupAB)\n",
    "print(p1)"
   ]
  },
  {
   "cell_type": "code",
   "execution_count": 34,
   "metadata": {
    "scrolled": true
   },
   "outputs": [
    {
     "name": "stdout",
     "output_type": "stream",
     "text": [
      "ARPU_all: 7.76\n",
      "ARPU_A: 6.34\n",
      "ARPU_B: 8.11\n"
     ]
    }
   ],
   "source": [
    "#Средняя выручка на пользователя ARPU для всех пользователей\n",
    "fun_arpu(purchase_with_groupAB)"
   ]
  },
  {
   "cell_type": "markdown",
   "metadata": {},
   "source": [
    "**Проверяем (тестируем) гипотезу с помощью Манн-Уитни**<br/>\n",
    "H0: Распределение ARPU выборки группы А **значимо не отличается** от группы B <br/>\n",
    "H1: Распределение ARPU выборки группы А **значимо отличается** от группы B"
   ]
  },
  {
   "cell_type": "code",
   "execution_count": 93,
   "metadata": {},
   "outputs": [
    {
     "name": "stdout",
     "output_type": "stream",
     "text": [
      "Statistics=439920619.500, p=0.977\n",
      "Не отклоняем H0\n",
      "0.9771622986988255\n"
     ]
    }
   ],
   "source": [
    "p2 = fun_mann (purchase_with_groupAB)\n",
    "print(p2)"
   ]
  },
  {
   "cell_type": "code",
   "execution_count": 36,
   "metadata": {},
   "outputs": [
    {
     "name": "stdout",
     "output_type": "stream",
     "text": [
      "Number of all users who pay: 541\n",
      "Number of all users who pay in A: 107\n",
      "Number of all users who pay in B: 434\n"
     ]
    }
   ],
   "source": [
    "#количество платящих пользователей\n",
    "fun_user_pay (purchase_with_groupAB)"
   ]
  },
  {
   "cell_type": "code",
   "execution_count": 37,
   "metadata": {},
   "outputs": [
    {
     "name": "stdout",
     "output_type": "stream",
     "text": [
      "ARPPU_all: 1069.75\n",
      "ARPPU_A: 870.67\n",
      "ARPPU_B: 1118.84\n"
     ]
    }
   ],
   "source": [
    "#Средняя выручка на платящего пользователя ARPPU для всех пользователей\n",
    "fun_arppu(purchase_with_groupAB)"
   ]
  },
  {
   "cell_type": "markdown",
   "metadata": {},
   "source": [
    "**Проверяем (тестируем) гипотезу с помощью bootstrap MEAN**<br/>\n",
    "H0: Средняя выручка на платящего пользователя в тестовой группе A **значимо не отличается** от группы B B<br/>\n",
    "H1: Средняя выручка на платящего пользователя в тестовой группе A  **значимо отличается** от группы B"
   ]
  },
  {
   "cell_type": "code",
   "execution_count": 95,
   "metadata": {
    "scrolled": true
   },
   "outputs": [
    {
     "data": {
      "application/vnd.jupyter.widget-view+json": {
       "model_id": "dcb2e872d7cc4f8381f64f2219e379e6",
       "version_major": 2,
       "version_minor": 0
      },
      "text/plain": [
       "HBox(children=(FloatProgress(value=0.0, max=2000.0), HTML(value='')))"
      ]
     },
     "metadata": {},
     "output_type": "display_data"
    },
    {
     "name": "stdout",
     "output_type": "stream",
     "text": [
      "\n"
     ]
    },
    {
     "data": {
      "image/png": "[encoded data removed]",
      "text/plain": [
       "<Figure size 432x288 with 1 Axes>"
      ]
     },
     "metadata": {},
     "output_type": "display_data"
    },
    {
     "name": "stdout",
     "output_type": "stream",
     "text": [
      "2.46965748779544e-06\n",
      "Отклоняем H0\n"
     ]
    }
   ],
   "source": [
    "booted_data_mean_pay = get_bootstrap_mean(\\\n",
    "    purchase_with_groupAB.query('group == \"B\" and revenue>0').revenue, \\\n",
    "    purchase_with_groupAB.query('group == \"A\" and revenue>0').revenue, \\\n",
    "    boot_it = 2000) \n",
    "# в результате хранится разница двух распределений, ДИ и pvalue\n",
    "print(booted_data_mean_pay[\"p_value\"])\n",
    "prob = 0.95\n",
    "alpha = 1.0 - prob\n",
    "if booted_data_mean_pay[\"p_value\"] <= alpha:\n",
    "    print('Отклоняем H0')\n",
    "else:\n",
    "    print('Не отклоняем H0')\n",
    "p3 = booted_data_mean_pay[\"p_value\"]\n",
    "#P_value<0.05 это означает, что отвергаем H0 и принимаем H1, \n",
    "#то что средняя выручка Средняя выручка на платящего пользователя в тестовой группе A \n",
    "#ЗНАЧИМО отличается от средней выручки на платящего пользователя в группе B"
   ]
  },
  {
   "cell_type": "markdown",
   "metadata": {},
   "source": [
    "**Метод Холма**"
   ]
  },
  {
   "cell_type": "code",
   "execution_count": 96,
   "metadata": {},
   "outputs": [
    {
     "name": "stdout",
     "output_type": "stream",
     "text": [
      "[2.46965748779544e-06, 0.9771622986988255, 1.0]\n",
      "FWER: (array([ True, False, False]), array([7.40897246e-06, 1.00000000e+00, 1.00000000e+00]), 0.016952427508441503, 0.016666666666666666)\n"
     ]
    }
   ],
   "source": [
    "print(sorted([p1, p2, p3]))\n",
    "\n",
    "print(\"FWER: \" + str(multipletests(sorted([p1, p2, p3]), alpha=0.05, \n",
    "                     method='holm', is_sorted = True)))\n",
    "#С корректировкой по методу Холма получилось, что ARPPU действительно отличается у двух групп, а другие показатели\n",
    "#действительно отличаются.\n"
   ]
  },
  {
   "cell_type": "markdown",
   "metadata": {},
   "source": [
    "**Метрики с деления на платформы IOS и Android:**\n",
    "\n",
    "* Конверсия в покупку\n",
    "* Средняя выручка на пользователя = Средний чек на пользователя\n",
    "* Средняя выручка на платящего пользователя = Средний чек на платящего пользователя\n",
    "* Количество платящих пользователей"
   ]
  },
  {
   "cell_type": "code",
   "execution_count": 39,
   "metadata": {},
   "outputs": [],
   "source": [
    "#объединение таблиц характеристики пользователей с покупками\n",
    "user_purchase_with_info = pd.merge(active_users, purchases, on=['user_id'],how='left')\n",
    "user_purchase_with_info['revenue'] = user_purchase_with_info['revenue'].fillna(0)\n",
    "user_purchase_with_info['CR'] = np.where(user_purchase_with_info.revenue > 0, 1, 0)"
   ]
  },
  {
   "cell_type": "code",
   "execution_count": 40,
   "metadata": {},
   "outputs": [
    {
     "data": {
      "text/html": [
       "<div>\n",
       "<style scoped>\n",
       "    .dataframe tbody tr th:only-of-type {\n",
       "        vertical-align: middle;\n",
       "    }\n",
       "\n",
       "    .dataframe tbody tr th {\n",
       "        vertical-align: top;\n",
       "    }\n",
       "\n",
       "    .dataframe thead th {\n",
       "        text-align: right;\n",
       "    }\n",
       "</style>\n",
       "<table border=\"1\" class=\"dataframe\">\n",
       "  <thead>\n",
       "    <tr style=\"text-align: right;\">\n",
       "      <th></th>\n",
       "      <th>user_id</th>\n",
       "      <th>country</th>\n",
       "      <th>platform</th>\n",
       "      <th>sex</th>\n",
       "      <th>revenue</th>\n",
       "      <th>CR</th>\n",
       "    </tr>\n",
       "  </thead>\n",
       "  <tbody>\n",
       "    <tr>\n",
       "      <th>0</th>\n",
       "      <td>8029</td>\n",
       "      <td>Russia</td>\n",
       "      <td>ios</td>\n",
       "      <td>male</td>\n",
       "      <td>0.0</td>\n",
       "      <td>0</td>\n",
       "    </tr>\n",
       "    <tr>\n",
       "      <th>1</th>\n",
       "      <td>1735</td>\n",
       "      <td>Sweden</td>\n",
       "      <td>ios</td>\n",
       "      <td>male</td>\n",
       "      <td>0.0</td>\n",
       "      <td>0</td>\n",
       "    </tr>\n",
       "    <tr>\n",
       "      <th>2</th>\n",
       "      <td>7697</td>\n",
       "      <td>Russia</td>\n",
       "      <td>android</td>\n",
       "      <td>male</td>\n",
       "      <td>0.0</td>\n",
       "      <td>0</td>\n",
       "    </tr>\n",
       "    <tr>\n",
       "      <th>3</th>\n",
       "      <td>1421</td>\n",
       "      <td>Sweden</td>\n",
       "      <td>android</td>\n",
       "      <td>female</td>\n",
       "      <td>0.0</td>\n",
       "      <td>0</td>\n",
       "    </tr>\n",
       "    <tr>\n",
       "      <th>4</th>\n",
       "      <td>1704</td>\n",
       "      <td>Russia</td>\n",
       "      <td>ios</td>\n",
       "      <td>male</td>\n",
       "      <td>0.0</td>\n",
       "      <td>0</td>\n",
       "    </tr>\n",
       "    <tr>\n",
       "      <th>...</th>\n",
       "      <td>...</td>\n",
       "      <td>...</td>\n",
       "      <td>...</td>\n",
       "      <td>...</td>\n",
       "      <td>...</td>\n",
       "      <td>...</td>\n",
       "    </tr>\n",
       "    <tr>\n",
       "      <th>8336</th>\n",
       "      <td>2417</td>\n",
       "      <td>Sweden</td>\n",
       "      <td>ios</td>\n",
       "      <td>female</td>\n",
       "      <td>0.0</td>\n",
       "      <td>0</td>\n",
       "    </tr>\n",
       "    <tr>\n",
       "      <th>8337</th>\n",
       "      <td>3755</td>\n",
       "      <td>Russia</td>\n",
       "      <td>ios</td>\n",
       "      <td>male</td>\n",
       "      <td>590.0</td>\n",
       "      <td>1</td>\n",
       "    </tr>\n",
       "    <tr>\n",
       "      <th>8338</th>\n",
       "      <td>4594</td>\n",
       "      <td>Sweden</td>\n",
       "      <td>android</td>\n",
       "      <td>female</td>\n",
       "      <td>0.0</td>\n",
       "      <td>0</td>\n",
       "    </tr>\n",
       "    <tr>\n",
       "      <th>8339</th>\n",
       "      <td>7430</td>\n",
       "      <td>Sweden</td>\n",
       "      <td>ios</td>\n",
       "      <td>female</td>\n",
       "      <td>0.0</td>\n",
       "      <td>0</td>\n",
       "    </tr>\n",
       "    <tr>\n",
       "      <th>8340</th>\n",
       "      <td>2460</td>\n",
       "      <td>Russia</td>\n",
       "      <td>android</td>\n",
       "      <td>female</td>\n",
       "      <td>0.0</td>\n",
       "      <td>0</td>\n",
       "    </tr>\n",
       "  </tbody>\n",
       "</table>\n",
       "<p>8341 rows × 6 columns</p>\n",
       "</div>"
      ],
      "text/plain": [
       "      user_id country platform     sex  revenue  CR\n",
       "0        8029  Russia      ios    male      0.0   0\n",
       "1        1735  Sweden      ios    male      0.0   0\n",
       "2        7697  Russia  android    male      0.0   0\n",
       "3        1421  Sweden  android  female      0.0   0\n",
       "4        1704  Russia      ios    male      0.0   0\n",
       "...       ...     ...      ...     ...      ...  ..\n",
       "8336     2417  Sweden      ios  female      0.0   0\n",
       "8337     3755  Russia      ios    male    590.0   1\n",
       "8338     4594  Sweden  android  female      0.0   0\n",
       "8339     7430  Sweden      ios  female      0.0   0\n",
       "8340     2460  Russia  android  female      0.0   0\n",
       "\n",
       "[8341 rows x 6 columns]"
      ]
     },
     "execution_count": 40,
     "metadata": {},
     "output_type": "execute_result"
    }
   ],
   "source": [
    "user_purchase_with_info"
   ]
  },
  {
   "cell_type": "code",
   "execution_count": 41,
   "metadata": {},
   "outputs": [
    {
     "data": {
      "text/html": [
       "<div>\n",
       "<style scoped>\n",
       "    .dataframe tbody tr th:only-of-type {\n",
       "        vertical-align: middle;\n",
       "    }\n",
       "\n",
       "    .dataframe tbody tr th {\n",
       "        vertical-align: top;\n",
       "    }\n",
       "\n",
       "    .dataframe thead th {\n",
       "        text-align: right;\n",
       "    }\n",
       "</style>\n",
       "<table border=\"1\" class=\"dataframe\">\n",
       "  <thead>\n",
       "    <tr style=\"text-align: right;\">\n",
       "      <th></th>\n",
       "      <th>user_id</th>\n",
       "      <th>country</th>\n",
       "      <th>platform</th>\n",
       "      <th>sex</th>\n",
       "      <th>revenue</th>\n",
       "      <th>CR</th>\n",
       "      <th>group</th>\n",
       "    </tr>\n",
       "  </thead>\n",
       "  <tbody>\n",
       "    <tr>\n",
       "      <th>0</th>\n",
       "      <td>8029</td>\n",
       "      <td>Russia</td>\n",
       "      <td>ios</td>\n",
       "      <td>male</td>\n",
       "      <td>0.0</td>\n",
       "      <td>0</td>\n",
       "      <td>B</td>\n",
       "    </tr>\n",
       "    <tr>\n",
       "      <th>1</th>\n",
       "      <td>1735</td>\n",
       "      <td>Sweden</td>\n",
       "      <td>ios</td>\n",
       "      <td>male</td>\n",
       "      <td>0.0</td>\n",
       "      <td>0</td>\n",
       "      <td>B</td>\n",
       "    </tr>\n",
       "    <tr>\n",
       "      <th>2</th>\n",
       "      <td>7697</td>\n",
       "      <td>Russia</td>\n",
       "      <td>android</td>\n",
       "      <td>male</td>\n",
       "      <td>0.0</td>\n",
       "      <td>0</td>\n",
       "      <td>B</td>\n",
       "    </tr>\n",
       "    <tr>\n",
       "      <th>3</th>\n",
       "      <td>1421</td>\n",
       "      <td>Sweden</td>\n",
       "      <td>android</td>\n",
       "      <td>female</td>\n",
       "      <td>0.0</td>\n",
       "      <td>0</td>\n",
       "      <td>B</td>\n",
       "    </tr>\n",
       "    <tr>\n",
       "      <th>4</th>\n",
       "      <td>1704</td>\n",
       "      <td>Russia</td>\n",
       "      <td>ios</td>\n",
       "      <td>male</td>\n",
       "      <td>0.0</td>\n",
       "      <td>0</td>\n",
       "      <td>B</td>\n",
       "    </tr>\n",
       "    <tr>\n",
       "      <th>...</th>\n",
       "      <td>...</td>\n",
       "      <td>...</td>\n",
       "      <td>...</td>\n",
       "      <td>...</td>\n",
       "      <td>...</td>\n",
       "      <td>...</td>\n",
       "      <td>...</td>\n",
       "    </tr>\n",
       "    <tr>\n",
       "      <th>8336</th>\n",
       "      <td>2417</td>\n",
       "      <td>Sweden</td>\n",
       "      <td>ios</td>\n",
       "      <td>female</td>\n",
       "      <td>0.0</td>\n",
       "      <td>0</td>\n",
       "      <td>B</td>\n",
       "    </tr>\n",
       "    <tr>\n",
       "      <th>8337</th>\n",
       "      <td>3755</td>\n",
       "      <td>Russia</td>\n",
       "      <td>ios</td>\n",
       "      <td>male</td>\n",
       "      <td>590.0</td>\n",
       "      <td>1</td>\n",
       "      <td>A</td>\n",
       "    </tr>\n",
       "    <tr>\n",
       "      <th>8338</th>\n",
       "      <td>4594</td>\n",
       "      <td>Sweden</td>\n",
       "      <td>android</td>\n",
       "      <td>female</td>\n",
       "      <td>0.0</td>\n",
       "      <td>0</td>\n",
       "      <td>B</td>\n",
       "    </tr>\n",
       "    <tr>\n",
       "      <th>8339</th>\n",
       "      <td>7430</td>\n",
       "      <td>Sweden</td>\n",
       "      <td>ios</td>\n",
       "      <td>female</td>\n",
       "      <td>0.0</td>\n",
       "      <td>0</td>\n",
       "      <td>B</td>\n",
       "    </tr>\n",
       "    <tr>\n",
       "      <th>8340</th>\n",
       "      <td>2460</td>\n",
       "      <td>Russia</td>\n",
       "      <td>android</td>\n",
       "      <td>female</td>\n",
       "      <td>0.0</td>\n",
       "      <td>0</td>\n",
       "      <td>B</td>\n",
       "    </tr>\n",
       "  </tbody>\n",
       "</table>\n",
       "<p>8341 rows × 7 columns</p>\n",
       "</div>"
      ],
      "text/plain": [
       "      user_id country platform     sex  revenue  CR group\n",
       "0        8029  Russia      ios    male      0.0   0     B\n",
       "1        1735  Sweden      ios    male      0.0   0     B\n",
       "2        7697  Russia  android    male      0.0   0     B\n",
       "3        1421  Sweden  android  female      0.0   0     B\n",
       "4        1704  Russia      ios    male      0.0   0     B\n",
       "...       ...     ...      ...     ...      ...  ..   ...\n",
       "8336     2417  Sweden      ios  female      0.0   0     B\n",
       "8337     3755  Russia      ios    male    590.0   1     A\n",
       "8338     4594  Sweden  android  female      0.0   0     B\n",
       "8339     7430  Sweden      ios  female      0.0   0     B\n",
       "8340     2460  Russia  android  female      0.0   0     B\n",
       "\n",
       "[8341 rows x 7 columns]"
      ]
     },
     "execution_count": 41,
     "metadata": {},
     "output_type": "execute_result"
    }
   ],
   "source": [
    "#объединение таблиц характеристики пользователей с покупками и участием в эксперименте\n",
    "user_purchase_with_info_AB = pd.merge(user_purchase_with_info, groupAB_users, on=['user_id'])\n",
    "user_purchase_with_info_AB"
   ]
  },
  {
   "cell_type": "code",
   "execution_count": 42,
   "metadata": {},
   "outputs": [],
   "source": [
    "#деление по тестовой и контрольной группе\n",
    "user_purchase_with_info_A = user_purchase_with_info_AB.query('group==\"A\"')\n",
    "user_purchase_with_info_B = user_purchase_with_info_AB.query('group==\"B\"')"
   ]
  },
  {
   "cell_type": "code",
   "execution_count": 43,
   "metadata": {},
   "outputs": [],
   "source": [
    "#IOS\n",
    "user_purchase_AB_IOS = user_purchase_with_info_AB.query('platform==\"ios\"')\n",
    "user_purchase_A_IOS = user_purchase_with_info_A.query('platform==\"ios\"')\n",
    "user_purchase_B_IOS = user_purchase_with_info_B.query('platform==\"ios\"')"
   ]
  },
  {
   "cell_type": "code",
   "execution_count": 44,
   "metadata": {},
   "outputs": [
    {
     "name": "stdout",
     "output_type": "stream",
     "text": [
      "CR_all,%: 4.94624\n",
      "CR_A,%: 5.53977\n",
      "CR_B,%: 4.80769\n"
     ]
    }
   ],
   "source": [
    "#Конверсия в покупку CR для всех IOS\n",
    "fun_CR(user_purchase_AB_IOS)"
   ]
  },
  {
   "cell_type": "markdown",
   "metadata": {},
   "source": [
    "**Проверяем (тестируем) гипотезу с помощью ХИ-квадрат**<br/>\n",
    "H0: CR в тестовой группе A **значимо не отличается** от CR в группе B<br/>\n",
    "H1: CR в тестовой группе A **значимо отличается** от CR в группе B"
   ]
  },
  {
   "cell_type": "code",
   "execution_count": 72,
   "metadata": {},
   "outputs": [
    {
     "name": "stdout",
     "output_type": "stream",
     "text": [
      "0.5042373308565214 0.4776441693023915\n",
      "Не отклоняем H0\n"
     ]
    },
    {
     "data": {
      "text/plain": [
       "0.4776441693023915"
      ]
     },
     "execution_count": 72,
     "metadata": {},
     "output_type": "execute_result"
    }
   ],
   "source": [
    "fun_chi2 (user_purchase_AB_IOS)"
   ]
  },
  {
   "cell_type": "code",
   "execution_count": 46,
   "metadata": {},
   "outputs": [],
   "source": [
    "#Android\n",
    "user_purchase_AB_Android = user_purchase_with_info_AB.query('platform==\"android\"')\n",
    "user_purchase_A_Android = user_purchase_with_info_A.query('platform==\"android\"')\n",
    "user_purchase_B_Android = user_purchase_with_info_B.query('platform==\"android\"')"
   ]
  },
  {
   "cell_type": "code",
   "execution_count": 47,
   "metadata": {
    "scrolled": false
   },
   "outputs": [
    {
     "name": "stdout",
     "output_type": "stream",
     "text": [
      "CR_all,%: 4.50119\n",
      "CR_A,%: 4.67626\n",
      "CR_B,%: 4.46264\n"
     ]
    }
   ],
   "source": [
    "#Конверсия в покупку CR для Android\n",
    "fun_CR(user_purchase_AB_Android)"
   ]
  },
  {
   "cell_type": "markdown",
   "metadata": {},
   "source": [
    "**Проверяем (тестируем) гипотезу с помощью ХИ-квадрат**<br/>\n",
    "H0: CR в тестовой группе A **значимо не отличается** от CR в группе B<br/>\n",
    "H1: CR в тестовой группе A **значимо отличается** от CR в группе B"
   ]
  },
  {
   "cell_type": "code",
   "execution_count": 48,
   "metadata": {},
   "outputs": [
    {
     "name": "stdout",
     "output_type": "stream",
     "text": [
      "0.03137316416817135 0.8594104301864645\n",
      "Не отклоняем H0\n"
     ]
    }
   ],
   "source": [
    "fun_chi2 (user_purchase_AB_Android)"
   ]
  },
  {
   "cell_type": "code",
   "execution_count": 49,
   "metadata": {},
   "outputs": [
    {
     "name": "stdout",
     "output_type": "stream",
     "text": [
      "ARPU_all: 60.09\n",
      "ARPU_A: 47.87\n",
      "ARPU_B: 62.94\n"
     ]
    }
   ],
   "source": [
    "#Средняя выручка на пользователя ARPU для IOS\n",
    "fun_arpu(user_purchase_AB_IOS)"
   ]
  },
  {
   "cell_type": "markdown",
   "metadata": {},
   "source": [
    "**Проверяем (тестируем) гипотезу с помощью Манн-Уитни**<br/>\n",
    "H0: Распределение ARPU выборки группы А **значимо не отличается** от группы B <br/>\n",
    "H1: Распределение ARPU выборки группы А **значимо отличается** от группы B"
   ]
  },
  {
   "cell_type": "code",
   "execution_count": 50,
   "metadata": {},
   "outputs": [
    {
     "name": "stdout",
     "output_type": "stream",
     "text": [
      "Statistics=1054794.000, p=0.478\n",
      "Не отклоняем H0\n"
     ]
    }
   ],
   "source": [
    "fun_mann(user_purchase_AB_IOS)"
   ]
  },
  {
   "cell_type": "code",
   "execution_count": 51,
   "metadata": {},
   "outputs": [
    {
     "name": "stdout",
     "output_type": "stream",
     "text": [
      "ARPU_all: 53.71\n",
      "ARPU_A: 47.84\n",
      "ARPU_B: 55.0\n"
     ]
    }
   ],
   "source": [
    "#Средняя выручка на пользователя ARPU для Android\n",
    "fun_arpu(user_purchase_AB_Android)"
   ]
  },
  {
   "cell_type": "markdown",
   "metadata": {},
   "source": [
    "**Проверяем (тестируем) гипотезу с помощью Манн-Уитни**<br/>\n",
    "H0: Распределение ARPU выборки группы А **значимо не отличается** от группы B <br/>\n",
    "H1: Распределение ARPU выборки группы А **значимо отличается** от группы B"
   ]
  },
  {
   "cell_type": "code",
   "execution_count": 52,
   "metadata": {},
   "outputs": [
    {
     "name": "stdout",
     "output_type": "stream",
     "text": [
      "Statistics=1576471.000, p=0.829\n",
      "Не отклоняем H0\n"
     ]
    }
   ],
   "source": [
    "fun_mann(user_purchase_AB_Android)"
   ]
  },
  {
   "cell_type": "code",
   "execution_count": 53,
   "metadata": {
    "scrolled": true
   },
   "outputs": [
    {
     "name": "stdout",
     "output_type": "stream",
     "text": [
      "Number of all users who pay: 184\n",
      "Number of all users who pay in A: 39\n",
      "Number of all users who pay in B: 145\n"
     ]
    }
   ],
   "source": [
    "#количество платящих пользователей для IOS\n",
    "fun_user_pay (user_purchase_AB_IOS)"
   ]
  },
  {
   "cell_type": "code",
   "execution_count": 54,
   "metadata": {},
   "outputs": [
    {
     "name": "stdout",
     "output_type": "stream",
     "text": [
      "ARPPU_all: 1214.84\n",
      "ARPPU_A: 864.1\n",
      "ARPPU_B: 1309.18\n"
     ]
    }
   ],
   "source": [
    "#Средняя выручка на платящего пользователя ARPPU для IOS\n",
    "fun_arppu(user_purchase_AB_IOS)"
   ]
  },
  {
   "cell_type": "code",
   "execution_count": 55,
   "metadata": {},
   "outputs": [
    {
     "data": {
      "application/vnd.jupyter.widget-view+json": {
       "model_id": "1426c765e11845eaae5c71bef186e105",
       "version_major": 2,
       "version_minor": 0
      },
      "text/plain": [
       "HBox(children=(FloatProgress(value=0.0, max=2000.0), HTML(value='')))"
      ]
     },
     "metadata": {},
     "output_type": "display_data"
    },
    {
     "name": "stdout",
     "output_type": "stream",
     "text": [
      "\n"
     ]
    },
    {
     "data": {
      "image/png": "[encoded data removed]",
      "text/plain": [
       "<Figure size 432x288 with 1 Axes>"
      ]
     },
     "metadata": {},
     "output_type": "display_data"
    },
    {
     "name": "stdout",
     "output_type": "stream",
     "text": [
      "8.749223957654438e-06\n",
      "Отклоняем H0\n"
     ]
    }
   ],
   "source": [
    "#Проверяем (тестируем) гипотезу \n",
    "#H0:Средняя выручка на платящего пользователя в тестовой группе A \n",
    "#НЕ ЗНАЧИМО ОТЛИЧАЕТСЯ от средней выручки на платящего пользователя в группе B\n",
    "#H1:Средняя выручка на платящего пользователя в тестовой группе A \n",
    "#ЗНАЧИМО отличается от средней выручки на платящего пользователя в группе B\n",
    "#Проверка гипотезы \n",
    "booted_data_mean_pay_IOS = get_bootstrap_mean(\\\n",
    "    user_purchase_AB_IOS.query('group == \"B\" and revenue>0').revenue, \\\n",
    "    user_purchase_AB_IOS.query('group == \"A\" and revenue>0').revenue, \\\n",
    "    boot_it = 2000) \n",
    "# в результате хранится разница двух распределений, ДИ и pvalue\n",
    "print(booted_data_mean_pay_IOS[\"p_value\"])\n",
    "prob = 0.95\n",
    "alpha = 1.0 - prob\n",
    "if booted_data_mean_pay_IOS[\"p_value\"] <= alpha:\n",
    "    print('Отклоняем H0')\n",
    "else:\n",
    "    print('Не отклоняем H0')\n",
    "#P_value<0.05 это означает, что отвергаем H0 и принимаем H1, \n",
    "#то что средняя выручка Средняя выручка на платящего пользователя в тестовой группе A \n",
    "#ЗНАЧИМО отличается от средней выручки на платящего пользователя в группе B"
   ]
  },
  {
   "cell_type": "code",
   "execution_count": 56,
   "metadata": {},
   "outputs": [
    {
     "name": "stdout",
     "output_type": "stream",
     "text": [
      "Number of all users who pay: 208\n",
      "Number of all users who pay in A: 39\n",
      "Number of all users who pay in B: 169\n"
     ]
    }
   ],
   "source": [
    "#Количество платящих пользователей для Android\n",
    "fun_user_pay (user_purchase_AB_Android)"
   ]
  },
  {
   "cell_type": "code",
   "execution_count": 57,
   "metadata": {},
   "outputs": [
    {
     "name": "stdout",
     "output_type": "stream",
     "text": [
      "ARPPU_all: 1193.17\n",
      "ARPPU_A: 1023.03\n",
      "ARPPU_B: 1232.44\n"
     ]
    }
   ],
   "source": [
    "#Средняя выручка на платящего пользователя ARPPU для Android\n",
    "fun_arppu(user_purchase_AB_Android)"
   ]
  },
  {
   "cell_type": "code",
   "execution_count": 58,
   "metadata": {},
   "outputs": [
    {
     "data": {
      "application/vnd.jupyter.widget-view+json": {
       "model_id": "50cf9079383d4dceaf7e403afa384148",
       "version_major": 2,
       "version_minor": 0
      },
      "text/plain": [
       "HBox(children=(FloatProgress(value=0.0, max=2000.0), HTML(value='')))"
      ]
     },
     "metadata": {},
     "output_type": "display_data"
    },
    {
     "name": "stdout",
     "output_type": "stream",
     "text": [
      "\n"
     ]
    },
    {
     "data": {
      "image/png": "[encoded data removed]",
      "text/plain": [
       "<Figure size 432x288 with 1 Axes>"
      ]
     },
     "metadata": {},
     "output_type": "display_data"
    },
    {
     "name": "stdout",
     "output_type": "stream",
     "text": [
      "0.025568134552647465\n",
      "Отклоняем H0\n"
     ]
    }
   ],
   "source": [
    "#Проверка гипотезы \n",
    "booted_data_mean_pay_Android = get_bootstrap_mean(\\\n",
    "    user_purchase_AB_Android.query('group == \"B\" and revenue>0').revenue, \\\n",
    "    user_purchase_AB_Android.query('group == \"A\" and revenue>0').revenue, \\\n",
    "    boot_it = 2000)  \n",
    "# в результате хранится разница двух распределений, ДИ и pvalue\n",
    "print(booted_data_mean_pay_Android[\"p_value\"])\n",
    "prob = 0.95\n",
    "alpha = 1.0 - prob\n",
    "if booted_data_mean_pay_Android[\"p_value\"] <= alpha:\n",
    "    print('Отклоняем H0')\n",
    "else:\n",
    "    print('Не отклоняем H0')\n",
    "#P_value<0.05 это означает, что отвергаем H0 и принимаем H1, \n",
    "#то что средняя выручка Средняя выручка на платящего пользователя в тестовой группе A \n",
    "#ЗНАЧИМО отличается от средней выручки на платящего пользователя в группе B"
   ]
  },
  {
   "cell_type": "markdown",
   "metadata": {},
   "source": [
    "**Пользователи по странам**"
   ]
  },
  {
   "cell_type": "code",
   "execution_count": 59,
   "metadata": {},
   "outputs": [],
   "source": [
    "#страна Россия и Швеция\n",
    "user_ru = user_purchase_with_info_AB.query('country==\"Russia\"')\n",
    "user_swe = user_purchase_with_info_AB.query('country==\"Sweden\"')"
   ]
  },
  {
   "cell_type": "code",
   "execution_count": 60,
   "metadata": {},
   "outputs": [
    {
     "data": {
      "text/plain": [
       "(5407, 2934)"
      ]
     },
     "execution_count": 60,
     "metadata": {},
     "output_type": "execute_result"
    }
   ],
   "source": [
    "#количество пользователей стран\n",
    "number_user_ru = user_ru.shape[0]\n",
    "number_user_swe = user_swe.shape[0]\n",
    "number_user_ru, number_user_swe"
   ]
  },
  {
   "cell_type": "code",
   "execution_count": 61,
   "metadata": {},
   "outputs": [
    {
     "name": "stdout",
     "output_type": "stream",
     "text": [
      "CR_all,%: 4.43869\n",
      "CR_A,%: 4.69945\n",
      "CR_B,%: 4.38557\n"
     ]
    }
   ],
   "source": [
    "#Конверсия в покупку CR для России\n",
    "fun_CR(user_ru)"
   ]
  },
  {
   "cell_type": "markdown",
   "metadata": {},
   "source": [
    "**Проверяем (тестируем) гипотезу с помощью ХИ-квадрат**<br/>\n",
    "H0: CR в тестовой группе A **значимо не отличается** от CR в группе B<br/>\n",
    "H1: CR в тестовой группе A **значимо отличается** от CR в группе B"
   ]
  },
  {
   "cell_type": "code",
   "execution_count": 62,
   "metadata": {},
   "outputs": [
    {
     "name": "stdout",
     "output_type": "stream",
     "text": [
      "0.11031466555016003 0.7397861776034413\n",
      "Не отклоняем H0\n"
     ]
    }
   ],
   "source": [
    "fun_chi2(user_ru)"
   ]
  },
  {
   "cell_type": "code",
   "execution_count": 63,
   "metadata": {},
   "outputs": [
    {
     "name": "stdout",
     "output_type": "stream",
     "text": [
      "CR_all,%: 5.18064\n",
      "CR_A,%: 5.61798\n",
      "CR_B,%: 5.06274\n"
     ]
    }
   ],
   "source": [
    "#Конверсия в покупку CR для Швеции\n",
    "fun_CR(user_swe)"
   ]
  },
  {
   "cell_type": "markdown",
   "metadata": {},
   "source": [
    "**Проверяем (тестируем) гипотезу с помощью ХИ-квадрат**<br/>\n",
    "H0: CR в тестовой группе A **значимо не отличается** от CR в группе B<br/>\n",
    "H1: CR в тестовой группе A **значимо отличается** от CR в группе B"
   ]
  },
  {
   "cell_type": "code",
   "execution_count": 64,
   "metadata": {},
   "outputs": [
    {
     "name": "stdout",
     "output_type": "stream",
     "text": [
      "0.2053045758880742 0.6504727896095026\n",
      "Не отклоняем H0\n"
     ]
    }
   ],
   "source": [
    "fun_chi2(user_swe)"
   ]
  },
  {
   "cell_type": "code",
   "execution_count": null,
   "metadata": {},
   "outputs": [],
   "source": []
  },
  {
   "cell_type": "code",
   "execution_count": null,
   "metadata": {},
   "outputs": [],
   "source": []
  },
  {
   "cell_type": "code",
   "execution_count": null,
   "metadata": {},
   "outputs": [],
   "source": []
  }
 ],
 "metadata": {
  "kernelspec": {
   "display_name": "Python 3",
   "language": "python",
   "name": "python3"
  },
  "language_info": {
   "codemirror_mode": {
    "name": "ipython",
    "version": 3
   },
   "file_extension": ".py",
   "mimetype": "text/x-python",
   "name": "python",
   "nbconvert_exporter": "python",
   "pygments_lexer": "ipython3",
   "version": "3.7.3"
  }
 },
 "nbformat": 4,
 "nbformat_minor": 4
}
